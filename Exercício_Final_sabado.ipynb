{
  "nbformat": 4,
  "nbformat_minor": 0,
  "metadata": {
    "colab": {
      "provenance": [],
      "include_colab_link": true
    },
    "kernelspec": {
      "name": "python3",
      "display_name": "Python 3"
    },
    "language_info": {
      "name": "python"
    }
  },
  "cells": [
    {
      "cell_type": "markdown",
      "metadata": {
        "id": "view-in-github",
        "colab_type": "text"
      },
      "source": [
        "<a href=\"https://colab.research.google.com/github/nathalianutri/OficinaCalabSabado/blob/main/Exerc%C3%ADcio_Final_sabado.ipynb\" target=\"_parent\"><img src=\"https://colab.research.google.com/assets/colab-badge.svg\" alt=\"Open In Colab\"/></a>"
      ]
    },
    {
      "cell_type": "markdown",
      "source": [
        "# Contagem de Medalhas\n",
        "\n",
        "Crie um programa que receba o número de medalhas de ouro, prata e bronze de um país nas Olimpíadas e calcule o total de medalhas.\n",
        "Quando escrever 'sair', o programa deverá encerrar e mostrar na tela o ranking de medalhas no formato:"
      ],
      "metadata": {
        "id": "RQN1e5FZY6SZ"
      }
    },
    {
      "cell_type": "code",
      "source": [
        "#Ranking de medalhas:\n",
        "#Brasil: 7 medalhas\n",
        "#França: 6 medalhas\n",
        "#Argentina: 3 medalhas"
      ],
      "metadata": {
        "id": "gCq_KLHzZSzb"
      },
      "execution_count": null,
      "outputs": []
    },
    {
      "cell_type": "code",
      "execution_count": 8,
      "metadata": {
        "id": "AJJhjxiPTd5s",
        "colab": {
          "base_uri": "https://localhost:8080/"
        },
        "outputId": "d70ff991-d5cf-490d-fc6f-c6abb8ab9c50"
      },
      "outputs": [
        {
          "output_type": "stream",
          "name": "stdout",
          "text": [
            "Digite o nome do país (ou 'sair' para encerrar):Brasil\n",
            "Digite o número de medalhas de ouro:3\n",
            "Digite o número de medalhas de prata:3\n",
            "Digite o número de medalhas de bronze:1\n",
            "Digite o nome do país (ou 'sair' para encerrar):França\n",
            "Digite o número de medalhas de ouro:1\n",
            "Digite o número de medalhas de prata:2\n",
            "Digite o número de medalhas de bronze:3\n",
            "Digite o nome do país (ou 'sair' para encerrar):Argentina\n",
            "Digite o número de medalhas de ouro:1\n",
            "Digite o número de medalhas de prata:1\n",
            "Digite o número de medalhas de bronze:1\n",
            "Digite o nome do país (ou 'sair' para encerrar):sair\n",
            "\n",
            "Ranking de medalhas:\n",
            "Brasil: 7 medalhas\n",
            "França: 6 medalhas\n",
            "Argentina: 3 medalhas\n"
          ]
        }
      ],
      "source": [
        "# Resposta aqui\n",
        "ranking = []\n",
        "\n",
        "while True:\n",
        "  total = 0\n",
        "  pais = input('Digite o nome do país (ou sair para encerrar):')\n",
        "  if pais == 'sair':\n",
        "    break\n",
        "  ouro = input('Digite o número de medalhas de ouro:')\n",
        "  prata = input('Digite o número de medalhas de prata:')\n",
        "  bronze = input('Digite o número de medalhas de bronze:')\n",
        "  total = int(ouro) + int(prata) + int(bronze)\n",
        "\n",
        "  ranking.append(f'{pais}: {total} medalhas')\n",
        "\n",
        "print()\n",
        "print('Ranking de medalhas:')\n",
        "for item in ranking:\n",
        "  print(item)"
      ]
    }
  ]
}